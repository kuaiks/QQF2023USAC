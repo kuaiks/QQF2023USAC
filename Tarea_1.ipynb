{
 "cells": [
  {
   "cell_type": "markdown",
   "id": "5341d093",
   "metadata": {},
   "source": [
    "<img src=\"Imagenes/Mac_wallpaper_3.png\" width=\"50%\">"
   ]
  },
  {
   "cell_type": "code",
   "execution_count": null,
   "id": "6bfe5cd2",
   "metadata": {},
   "outputs": [],
   "source": [
    "!pip install \"qiskit[visualization]\" --user"
   ]
  },
  {
   "cell_type": "code",
   "execution_count": null,
   "id": "0fe2a72d",
   "metadata": {},
   "outputs": [],
   "source": [
    "!pip install qiskit-aer --user"
   ]
  },
  {
   "cell_type": "markdown",
   "id": "ed1e915f",
   "metadata": {},
   "source": [
    "# TAREA 1"
   ]
  },
  {
   "cell_type": "markdown",
   "id": "71755a6d",
   "metadata": {},
   "source": [
    "Completa los siguientes ejercicios. Parte del código ya fue escrito para ti, por lo que solo debes llenar donde diga #ESCRIBE TU CÓDIGO AQUÍ. Por favor no cambies nada más."
   ]
  },
  {
   "cell_type": "markdown",
   "id": "880debae",
   "metadata": {},
   "source": [
    "### Ejercicio 1: Crea un circuito básico (1 pt.)"
   ]
  },
  {
   "cell_type": "markdown",
   "id": "508b9b79",
   "metadata": {},
   "source": [
    "Crear un circuito con 10 qubits y 10 bits clásicos que:<br>\n",
    "- Aplique una compuerta $Y$ a todos los qubits.\n",
    "- Aplique una compuerta $Z$ a los qubits con índice par.\n",
    "- Aplique una compuerta $X$ a los qubits con índice impar.\n",
    "- Aplique compuertas CNOT que utilicen al qubit 9 como el control y al resto como los objetivos.\n",
    "- Mida los qubits 0-9 en los bits 9-0."
   ]
  },
  {
   "cell_type": "code",
   "execution_count": null,
   "id": "62b40e30",
   "metadata": {},
   "outputs": [],
   "source": [
"from qiskit.visualization import plot_histogram

circuito = QuantumCircuit(10, 10)

circuito.h(range(10))

circuito.x(range(0, 10, 2))

circuito.z(range(1, 10, 2))

for qubit in range(8):
    circuito.cx(9, qubit)

circuito.measure(range(10), range(10))

circuito.draw(output='mpl')"
   ]
  },
  {
   "cell_type": "markdown",
   "id": "c331be3d",
   "metadata": {},
   "source": [
    "### Ejercicio 2: Crea un estado de Bell (1 pt.)"
   ]
  },
  {
   "cell_type": "markdown",
   "id": "c7296c50",
   "metadata": {},
   "source": [
    "$\\hspace{10 cm}|\\Psi^{-}\\rangle = \\dfrac{1}{\\sqrt{2}}(|01\\rangle - |10\\rangle)$"
   ]
  },
  {
   "cell_type": "code",
   "execution_count": null,
   "id": "8a2f74d5",
   "metadata": {},
   "outputs": [],
   "source": [
    "from qiskit import QuantumCircuit, Aer, transpile, assemble, execute
from qiskit.visualization import plot_histogram, plot_bloch_multivector

circuito_bell = QuantumCircuit(2, 2)

circuito_bell.h(0)

circuito_bell.cx(0, 1)

circuito_bell.measure([0, 1], [0, 1])

circuito_bell.draw(output='mpl')
"
   ]
  },
  {
   "cell_type": "code",
   "execution_count": null,
   "id": "0c4cb351",
   "metadata": {},
   "outputs": [],
   "source": [
    "#Puedes usar las siguientes celdas para comprobar tu respuesta\n",
    "job = execute(qc,Aer.get_backend('statevector_simulator'),optimization_level=0)\n",
    "precision = 3 \n",
    "vector_estado = job.result().get_statevector(qc,precision).data\n",
    "display(array_to_latex(vector_estado, prefix=\"|\\\\Psi^{-}\\\\rangle =\"))"
   ]
  },
  {
   "cell_type": "code",
   "execution_count": null,
   "id": "7f76843c",
   "metadata": {},
   "outputs": [],
   "source": [
    "job = execute(qc,Aer.get_backend('qasm_simulator'),shots=100) \n",
    "resultado = job.result().get_counts(qc)\n",
    "print(resultado)"
   ]
  },
  {
   "cell_type": "markdown",
   "id": "0e1e4291",
   "metadata": {},
   "source": [
    "### Ejercicio 3: Crea el estado GHZ (2 pts.)"
   ]
  },
  {
   "cell_type": "markdown",
   "id": "d6dad887",
   "metadata": {},
   "source": [
    "$\\hspace{10 cm}|GHZ\\rangle = \\dfrac{1}{\\sqrt{2}}(|000\\rangle + |111\\rangle)$"
   ]
  },
  {
   "cell_type": "code",
   "execution_count": null,
   "id": "39b47087",
   "metadata": {},
   "outputs": [],
   "source": [
    "from qiskit import QuantumCircuit, Aer, transpile, assemble, execute
from qiskit.visualization import plot_histogram, plot_bloch_multivector

circuito_ghz = QuantumCircuit(3, 3)

circuito_ghz.h(0)

for qubit in range(2):
    circuito_ghz.cx(0, qubit + 1)

circuito_ghz.measure([0, 1, 2], [0, 1, 2])

circuito_ghz.draw(output='mpl')
"
   ]
  },
  {
   "cell_type": "code",
   "execution_count": null,
   "id": "3f67a75b",
   "metadata": {},
   "outputs": [],
   "source": [
    "#Puedes usar las siguientes celdas para comprobar tu respuesta\n",
    "job = execute(qc,Aer.get_backend('statevector_simulator'),optimization_level=0)\n",
    "precision = 3 \n",
    "vector_estado = job.result().get_statevector(qc,precision).data\n",
    "display(array_to_latex(vector_estado, prefix=\"|GHZ\\\\rangle =\"))"
   ]
  },
  {
   "cell_type": "code",
   "execution_count": null,
   "id": "1fa9aad1",
   "metadata": {},
   "outputs": [],
   "source": [
    "job = execute(qc,Aer.get_backend('qasm_simulator'),shots=100) \n",
    "resultado = job.result().get_counts(qc)\n",
    "print(resultado)"
   ]
  },
  {
   "cell_type": "markdown",
   "id": "d896c327",
   "metadata": {},
   "source": [
    "### Ejercicio 4: Implementa la compuerta NAND (2 pts.)"
   ]
  },
  {
   "cell_type": "markdown",
   "id": "00d2fc27",
   "metadata": {},
   "source": [
    "El funcionamiento de la compuerta NAND:"
   ]
  },
  {
   "cell_type": "markdown",
   "id": "b9ec1f7b",
   "metadata": {},
   "source": [
    "| input 1 | input 2 | output |\n",
    "| :---: | :---: | :---: |\n",
    "|0 | 0 | 1 |\n",
    "|0 | 1 | 1 |\n",
    "| 1 | 0 | 1 |\n",
    "| 1 | 1 | 0 |"
   ]
  },
  {
   "cell_type": "markdown",
   "id": "dcb7903a",
   "metadata": {},
   "source": [
    "La función `NAND(estado)`:<br>\n",
    "- Recibe como input un estado de dos qubits\n",
    "- Regresa un circuito cuántico que aplica la compuerta NAND"
   ]
  },
  {
   "cell_type": "markdown",
   "id": "30c033ce",
   "metadata": {},
   "source": [
    "**Recuerda que el circuito completo tiene tres qubits: dos que funcionan como el input y uno que almacena el output.**"
   ]
  },
  {
   "cell_type": "code",
   "execution_count": null,
   "id": "78ddf5cd",
   "metadata": {},
   "outputs": [],
   "source": [
    "from qiskit import QuantumCircuit, execute, Aer\n",
    "def NAND(estado):\n",
    "    qc = QuantumCircuit(3,3)\n",
    "    \n",
    "    if int(estado[0]) == 1:\n",
    "        qc.x(2)\n",
    "    if int(estado[1]) == 1:\n",
    "        qc.x(1)\n",
    "        \n",
    "#No cambies nada arriba de esta línea\n",
    "    \n",
    "from qiskit import QuantumCircuit, Aer, transpile, assemble, execute
from qiskit.visualization import plot_histogram

def nand_circuit():
    circuito_nand = QuantumCircuit(2, 1)
    circuito_nand.cx(0, 1)
    circuito_nand.h([0, 1])
    circuito_nand.x([0, 1])
    circuito_nand.cx(0, 1)
    circuito_nand.measure(1, 0)
    return circuito_nand

circuito_nand = nand_circuit()
circuito_nand.draw(output='mpl')
"
    "\n",
    "#No cambies nada debajo de esta línea\n",
    "\n",
    "    qc.measure([0,1,2],[0,1,2])\n",
    "    \n",
    "    return qc"
   ]
  },
  {
   "cell_type": "code",
   "execution_count": null,
   "id": "2a359575",
   "metadata": {},
   "outputs": [],
   "source": [
    "#Puedes utilizar esta celda para probar tu función\n",
    "inputs = [\"00\",\"01\",\"10\",\"11\"]\n",
    "\n",
    "for estado in inputs:\n",
    "    qc = NAND(estado)\n",
    "\n",
    "    job = execute(qc,Aer.get_backend('qasm_simulator'),shots=100) \n",
    "    resultado = job.result().get_counts(qc)\n",
    "\n",
    "    print(\"Input:\",estado,\"Output:\",resultado)"
   ]
  },
  {
   "cell_type": "markdown",
   "id": "764f9fc6",
   "metadata": {},
   "source": [
    "### Ejercicio 5: Implementa la compuerta XOR (4 pts.)"
   ]
  },
  {
   "cell_type": "markdown",
   "id": "15fbba06",
   "metadata": {},
   "source": [
    "El funcionamiento de la compuerta XOR:"
   ]
  },
  {
   "cell_type": "markdown",
   "id": "37edc941",
   "metadata": {},
   "source": [
    "| input 1 | input 2 | output |\n",
    "| :---: | :---: | :---: |\n",
    "|0 | 0 | 0 |\n",
    "|0 | 1 | 1 |\n",
    "| 1 | 0 | 1 |\n",
    "| 1 | 1 | 0 |"
   ]
  },
  {
   "cell_type": "markdown",
   "id": "79f692fb",
   "metadata": {},
   "source": [
    "La función `XOR(estado)`:<br>\n",
    "- Recibe como input un estado de dos qubits\n",
    "- Regresa un circuito cuántico que aplica la compuerta NAND"
   ]
  },
  {
   "cell_type": "code",
   "execution_count": null,
   "id": "b7f5b5b5",
   "metadata": {},
   "outputs": [],
   "source": [
    "def XOR(inp):\n",
    "    qc = QuantumCircuit(3,3)\n",
    "\n",
    "    if int(inp[0]) == 1:\n",
    "        qc.x(2)\n",
    "    if int(inp[1]) == 1:\n",
    "        qc.x(1)\n",
    "        \n",
    "#No cambies nada arriba de esta línea\n",
    "    \n",
    "from qiskit import QuantumCircuit, Aer, transpile, assemble, execute
from qiskit.visualization import plot_histogram

def xor_circuit():
    circuito_xor = QuantumCircuit(2, 1)
    circuito_xor.cx(0, 1)
    circuito_xor.cx(1, 0)
    circuito_xor.cx(0, 1)
    circuito_xor.measure(1, 0)
    return circuito_xor

circuito_xor = xor_circuit()
circuito_xor.draw(output='mpl')
",
    "\n",
    "#No cambies nada debajo de esta línea\n",
    "\n",
    "    qc.measure([0,1,2],[0,1,2])\n",
    "    \n",
    "    return qc"
   ]
  },
  {
   "cell_type": "code",
   "execution_count": null,
   "id": "5a244d58",
   "metadata": {},
   "outputs": [],
   "source": [
    "#Puedes utilizar esta celda para probar tu función\n",
    "inputs = [\"00\",\"01\",\"10\",\"11\"]\n",
    "\n",
    "for estado in inputs:\n",
    "    qc = XOR(estado)\n",
    "    \n",
    "    job = execute(qc,Aer.get_backend('qasm_simulator'),shots=100)\n",
    "    resultado = job.result().get_counts(qc)\n",
    "    \n",
    "    print(\"Input:\",estado,\"Output:\",resultado)"
   ]
  }
 ],
 "metadata": {
  "kernelspec": {
   "display_name": "Python 3 (ipykernel)",
   "language": "python",
   "name": "python3"
  },
  "language_info": {
   "codemirror_mode": {
    "name": "ipython",
    "version": 3
   },
   "file_extension": ".py",
   "mimetype": "text/x-python",
   "name": "python",
   "nbconvert_exporter": "python",
   "pygments_lexer": "ipython3",
   "version": "3.10.9"
  }
 },
 "nbformat": 4,
 "nbformat_minor": 5
}
